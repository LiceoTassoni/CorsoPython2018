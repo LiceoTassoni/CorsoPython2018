{
 "cells": [
  {
   "cell_type": "code",
   "execution_count": null,
   "metadata": {},
   "outputs": [],
   "source": [
    "NOME=\"\"\n",
    "COGNOME=\"\""
   ]
  },
  {
   "cell_type": "markdown",
   "metadata": {},
   "source": [
    "Svolgi gli esercizi seguenti. In ciascun esercizio, rimuovi il comando `pass` e sostituiscilo con il codice necessario.\n",
    "\n",
    "**Ricorda:** all'inizio di ogni funzione crea la _docstring_ che descrive lo scopo della funzione."
   ]
  },
  {
   "cell_type": "markdown",
   "metadata": {},
   "source": [
    "### Esercizio 10\n",
    "\n",
    "Scrivi una funzione che calcoli la forza di gravità (secondo la legge di Newton), date due masse $m_1$, $m_2$ e la distanza $d$ tra esse:\n",
    "$$ F=G\\frac{m_1m_2}{d^2}$$\n",
    "La costante G vale $6,674\\times10^{-11}$"
   ]
  },
  {
   "cell_type": "code",
   "execution_count": null,
   "metadata": {},
   "outputs": [],
   "source": [
    "def gravita_newton(m1, m2, d):\n",
    "    pass"
   ]
  },
  {
   "cell_type": "code",
   "execution_count": null,
   "metadata": {},
   "outputs": [],
   "source": [
    "# controllo esercizio 10 *** ESEGUIRE, MA NON TOCCARE ***\n",
    "assert (gravita_newton(1.98855e30,5.9722e24,1.49597e11) - 3.5418e22 < 1e23), (\n",
    "            \"la tua funzione non calcola in maniera corretta la forza tra il sole e la terra\")"
   ]
  },
  {
   "cell_type": "markdown",
   "metadata": {},
   "source": [
    "### Esercizio 11\n",
    "\n",
    "Scrivi una funzione che, dati in ingresso i valori di $v$ (la velocità), $t$ (il tempo) ed $s_0$ (la posizione iniziale), determini la posizione di un oggetto secondo la legge oraria $$s(t) = s_0+v*t$$"
   ]
  },
  {
   "cell_type": "code",
   "execution_count": null,
   "metadata": {},
   "outputs": [],
   "source": [
    "def posizione(v, s_0, t):\n",
    "    pass"
   ]
  },
  {
   "cell_type": "code",
   "execution_count": null,
   "metadata": {},
   "outputs": [],
   "source": [
    "# controllo esercizio 11*** ESEGUIRE, MA NON TOCCARE ***\n",
    "assert posizione(5,-2, 1) == 3, \"la tua funzione non calcola la posizione nel modo corretto\""
   ]
  },
  {
   "cell_type": "markdown",
   "metadata": {},
   "source": [
    "### Esercizio 12\n",
    "Scrivi una funzione che, dato un testo qualsiasi in ingresso, conti per ciascuna lettera dell'alfabeto il numero di volte che compare nel testo. Sfrutta a questo proposito quello che hai imparato sulla funzione `chr`, ed un ciclo `for` apposito (vedi gli esercizi della lezione 2). Quale metodo delle stringhe puoi utilizzare per \"contare\" i caratteri\"?\n",
    "\n",
    "Utilizzando il metodo `lower` delle stringhe, converti prima di fare il conto tutti i caratteri in minuscolo.\n",
    "\n",
    "(Ricordati che devi anche contare le lettere accentate)"
   ]
  },
  {
   "cell_type": "code",
   "execution_count": null,
   "metadata": {},
   "outputs": [],
   "source": [
    "def conta_lettere(testo):\n",
    "    pass"
   ]
  },
  {
   "cell_type": "code",
   "execution_count": null,
   "metadata": {},
   "outputs": [],
   "source": [
    "secchia = \"\"\"Del bel Panaro il pian, sotto due scorte,\n",
    "     A predar vanno i Bolognesi armati;\n",
    "     E da Gherardo altri condotti a morte,\n",
    "     Altri dal Potta son rotti e fugati.\n",
    "     Gl' incalza di Bologna entro le porte\n",
    "     Manfredi, i cui guerrier co' vinti entrati\n",
    "     Fanno per una secchia orribil guerra,\n",
    "     E tornan trionfanti alla lor terra.\n",
    "\n",
    "Vorrei cantar quel memorando sdegno\n",
    "     Ch' infiammò già ne' fieri petti umani\n",
    "     Un'infelice e vil secchia di legno,\n",
    "     Che tolsero ai Petroni i Gemignani.\n",
    "     Febo che mi raggiri entro lo 'ngegno\n",
    "     L'orribil guerra e gli accidenti strani,\n",
    "     Tu che sai poetar, servimi d’aio,\n",
    "     E tiemmi per le maniche del saio.\n",
    "\n",
    "E tu, nipote del rettor del mondo,\n",
    "     Del generoso Carlo ultimo figlio,\n",
    "     Ch’ in giovinetta guancia e 'n capel biondo\n",
    "     Copri canuto senno, alto consiglio;\n",
    "     Se dagli studi tuoi di maggior pondo\n",
    "     Volgi talor per ricrearti il ciglio,\n",
    "     Vedrai, s' al cantar mio porgi l’orecchia,\n",
    "     Elena trasformarsi in una secchia.\n",
    "\n",
    "Già l'aquila romana avea perduto\n",
    "     L'antico nido, e rotto il fiero artiglio\n",
    "     Tant' anni formidabile e temuto\n",
    "     Oltre i Britanni, ed oltre il mar vermiglio:\n",
    "     E liete, in cambio d’arrecarle aiuto,\n",
    "     L'italiche città del suo periglio,\n",
    "     Ruzzavano tra lor non altrimenti\n",
    "     Che disciolte poledre a calci e denti.\n",
    "\n",
    "Sol la reina del mar d'Adria, volta\n",
    "     Dell'oriente alle provincie, ai regni;\n",
    "     Dalle discordie altrui libera e sciolta,\n",
    "     Ruminava sedendo alti disegni;\n",
    "     E gran parte di Grecia avea già tolta\n",
    "     Di mano agli empi usurpatori indegni:\n",
    "     L'altre attendean, le feste, a suon di squille\n",
    "     A dare il sacco alle vicine ville.\n",
    "\n",
    "Part' eran ghibelline, e favorite\n",
    "     Dall'imperio aleman per suo interesse:\n",
    "     Part'eran guelfe, e con la Chiesa unite,\n",
    "     Che le pascea di speme e di promesse.\n",
    "     Quindi tra quei del Sipa antica lite\n",
    "     E quei del Potta ardea; quando successe\n",
    "     L'alto, stupendo e memorabil caso\n",
    "     Che ne gli annali scritto è di Parnaso.\n",
    "\n",
    "Del celeste Monton già il sol uscito,\n",
    "     Saettava co' rai le nubi algenti.\n",
    "     Parean stellati i campi e 'l ciel fiorito,\n",
    "     E sul tranquillo mar dormieno i venti:\n",
    "     Sol Zefiro ondeggiar facea sul lito\n",
    "     L'erbetta molle e i fior vaghi e ridenti;\n",
    "     E s'udian gli usignuoli al primo albore,\n",
    "     E gli asini cantar versi d’amore.\n",
    "\n",
    "Quando il calor della stagion novella,\n",
    "     Che movea i grilli a saltellar ne’ prati,\n",
    "     Mosse improvvisamente una procella\n",
    "     Di Bolognesi a' loro insulti usati.\n",
    "     Sotto due capi a depredar la bella\n",
    "     Riviera del Panaro usciro armati:\n",
    "     Passaro il fiume a guazzo, e la mattina\n",
    "     Giunse a Modana il grido e la ruina.\n",
    "\n",
    "Modana siede in una gran pianura\n",
    "     Che dalla parte d'austro e d'occidente\n",
    "     Cerchia di balze e di scoscese mura\n",
    "     Del selvoso Appennin la schiena algente,\n",
    "     Apennin ch'ivi tanto all’aria pura\n",
    "     S'alza a veder nel mare il sol cadente,\n",
    "     Che sulla fronte sua cinta di gelo\n",
    "     Pare ch’incurvi e che riposi il cielo.\n",
    "\n",
    "Dall'oriente ha le fiorite sponde\n",
    "     Del bel Panaro e le sue limpid'acque;\n",
    "     Bologna incontro; e a la sinistra, l'onde\n",
    "     Dove il figlio del Sol già morto giacque:\n",
    "     Secchia ha dall’aquilon, che si confonde\n",
    "     Ne' giri che mutar sempre le piacque;\n",
    "     Divora i liti, e d'infeconde arene\n",
    "     Semina i prati e le campagne amene.\n",
    "\"\"\""
   ]
  },
  {
   "cell_type": "code",
   "execution_count": null,
   "metadata": {},
   "outputs": [],
   "source": [
    "conta_lettere(secchia)"
   ]
  },
  {
   "cell_type": "markdown",
   "metadata": {},
   "source": [
    "### Esercizio 13\n",
    "modifica la funzione `conta_lettere` affinché, tramite il comando `return`, dia in uscita una lista di 26 numeri, ciascuno rappresentante il numero di volte in cui compare una determinata lettera."
   ]
  },
  {
   "cell_type": "code",
   "execution_count": null,
   "metadata": {},
   "outputs": [],
   "source": [
    "def conta_lettere_lista(testo):\n",
    "    pass"
   ]
  }
 ],
 "metadata": {
  "kernelspec": {
   "display_name": "Python 3",
   "language": "python",
   "name": "python3"
  },
  "language_info": {
   "codemirror_mode": {
    "name": "ipython",
    "version": 3
   },
   "file_extension": ".py",
   "mimetype": "text/x-python",
   "name": "python",
   "nbconvert_exporter": "python",
   "pygments_lexer": "ipython3",
   "version": "3.6.4"
  }
 },
 "nbformat": 4,
 "nbformat_minor": 2
}
