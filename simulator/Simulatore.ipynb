{
 "cells": [
  {
   "cell_type": "code",
   "execution_count": 1,
   "metadata": {},
   "outputs": [],
   "source": [
    "%matplotlib inline\n",
    "import matplotlib.pyplot as plt\n",
    "from matplotlib import animation, rc\n",
    "from IPython.display import HTML\n",
    "import numpy as np"
   ]
  },
  {
   "cell_type": "code",
   "execution_count": 2,
   "metadata": {},
   "outputs": [],
   "source": [
    "import dinamica as dyn\n",
    "import cinematica as kn"
   ]
  },
  {
   "cell_type": "code",
   "execution_count": 3,
   "metadata": {},
   "outputs": [],
   "source": [
    "n=4\n",
    "t=5\n",
    "k=2000"
   ]
  },
  {
   "cell_type": "markdown",
   "metadata": {},
   "source": [
    "Le posizioni iniziali sono determinate di seguito prendendo delle coordinate casuali tra 0 e 1. Per fare in modo che occupino lo spazio dato dagli assi (tra -2 e 2) del grafico si toglie 1/2 e si moltiplica per 2.\n",
    "\n",
    "Le velocità sono casuali anch'esse.\n",
    "\n",
    "Le masse sono casuali."
   ]
  },
  {
   "cell_type": "code",
   "execution_count": 4,
   "metadata": {},
   "outputs": [],
   "source": [
    "x=(np.random.rand(n)-.5)*2\n",
    "y=(np.random.rand(n)-.5)*2"
   ]
  },
  {
   "cell_type": "code",
   "execution_count": 5,
   "metadata": {},
   "outputs": [],
   "source": [
    "Vx=(np.random.rand(n)-.5)\n",
    "Vy=(np.random.rand(n)-.5)"
   ]
  },
  {
   "cell_type": "code",
   "execution_count": 6,
   "metadata": {},
   "outputs": [],
   "source": [
    "masse = np.random.rand(n)/5."
   ]
  },
  {
   "cell_type": "code",
   "execution_count": 7,
   "metadata": {},
   "outputs": [],
   "source": [
    "T = t / k"
   ]
  },
  {
   "cell_type": "code",
   "execution_count": 8,
   "metadata": {},
   "outputs": [],
   "source": [
    "posizioni = np.zeros((2, k, n))"
   ]
  },
  {
   "cell_type": "code",
   "execution_count": 9,
   "metadata": {},
   "outputs": [],
   "source": [
    "posizioni[0,0,:] = x\n",
    "posizioni[1,0,:] = y"
   ]
  },
  {
   "cell_type": "code",
   "execution_count": 10,
   "metadata": {},
   "outputs": [],
   "source": [
    "for i in range(k):\n",
    "    a_x, a_y = dyn.calcolaAccelerazioni(x, y, masse)\n",
    "\n",
    "    Vx, Vy = kn.velocita(Vx, Vy, a_x, a_y, T)\n",
    "\n",
    "    x, y = kn.posizione(x, y, Vx, Vy, T)\n",
    "    posizioni[0,i,:] = x\n",
    "    posizioni[1,i,:] = y"
   ]
  },
  {
   "cell_type": "markdown",
   "metadata": {},
   "source": [
    "## Animazione\n",
    "\n",
    "Il codice riportato qui sotto si può tranquillamente \"copiare\" in vari siti, per esemptio [qui](http://tiao.io/posts/notebooks/embedding-matplotlib-animations-in-jupyter-notebooks/)."
   ]
  },
  {
   "cell_type": "code",
   "execution_count": 11,
   "metadata": {},
   "outputs": [
    {
     "data": {
      "image/png": "[encoded data removed]",
      "text/plain": [
       "<Figure size 432x288 with 1 Axes>"
      ]
     },
     "metadata": {},
     "output_type": "display_data"
    }
   ],
   "source": [
    "fig, ax = plt.subplots()\n",
    "\n",
    "ax.set_xlim(( -2, 2))\n",
    "ax.set_ylim(( -2, 2))\n",
    "\n",
    "line, = ax.plot([], [], 'o')"
   ]
  },
  {
   "cell_type": "code",
   "execution_count": 12,
   "metadata": {},
   "outputs": [],
   "source": [
    "def inizializza():\n",
    "    line.set_data([], [])\n",
    "    return (line,)"
   ]
  },
  {
   "cell_type": "code",
   "execution_count": 13,
   "metadata": {},
   "outputs": [],
   "source": [
    "def anima(m):\n",
    "    x = posizioni[0, m, :]\n",
    "    y = posizioni[1, m, :]\n",
    "    line.set_data(x, y)\n",
    "    return (line,)"
   ]
  },
  {
   "cell_type": "code",
   "execution_count": 14,
   "metadata": {},
   "outputs": [],
   "source": [
    "# questo codice serve per salvare il video come file .mp4\n",
    "Writer = animation.writers['ffmpeg']\n",
    "writer = Writer(fps=30, metadata=dict(artist='CorsoPython'), bitrate=1800)"
   ]
  },
  {
   "cell_type": "code",
   "execution_count": 15,
   "metadata": {},
   "outputs": [],
   "source": [
    "anim = animation.FuncAnimation(fig, anima, init_func=inizializza,\n",
    "                               frames=k, interval=20, blit=True)\n",
    "anim.save('im.mp4', writer=writer)\n",
    "#HTML(anim.to_html5_video())"
   ]
  }
 ],
 "metadata": {
  "kernelspec": {
   "display_name": "Python 3",
   "language": "python",
   "name": "python3"
  },
  "language_info": {
   "codemirror_mode": {
    "name": "ipython",
    "version": 3
   },
   "file_extension": ".py",
   "mimetype": "text/x-python",
   "name": "python",
   "nbconvert_exporter": "python",
   "pygments_lexer": "ipython3",
   "version": "3.6.4"
  }
 },
 "nbformat": 4,
 "nbformat_minor": 2
}
