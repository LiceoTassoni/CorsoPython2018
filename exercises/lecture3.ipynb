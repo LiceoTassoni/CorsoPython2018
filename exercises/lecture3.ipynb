{
 "cells": [
  {
   "cell_type": "code",
   "execution_count": null,
   "metadata": {},
   "outputs": [],
   "source": [
    "NOME=\"\"\n",
    "COGNOME=\"\""
   ]
  },
  {
   "cell_type": "markdown",
   "metadata": {},
   "source": [
    "Svolgi gli esercizi seguenti. In ciascun esercizio, rimuovi il comando `pass` e sostituiscilo con il codice necessario.\n",
    "\n",
    "**Ricorda:** all'inizio di ogni funzione crea la _docstring_ che descrive lo scopo della funzione."
   ]
  },
  {
   "cell_type": "markdown",
   "metadata": {},
   "source": [
    "### Esercizio 7\n",
    "Converti gli esercizi dal 4 al 5 del notebook precedente (`esercizi_lezione2a.ipynb`) in funzioni:"
   ]
  },
  {
   "cell_type": "code",
   "execution_count": null,
   "metadata": {},
   "outputs": [],
   "source": [
    "# Esercizio 4: determina se n è divisibile per 2 o per 3\n",
    "def divis_23(n):\n",
    "    pass"
   ]
  },
  {
   "cell_type": "code",
   "execution_count": null,
   "metadata": {},
   "outputs": [],
   "source": [
    "# Esercizio 5: determina per quali numeri precedenti a k è divisibile il numero k\n",
    "def divisibile_precedenti(k):\n",
    "    pass"
   ]
  },
  {
   "cell_type": "markdown",
   "metadata": {},
   "source": [
    "Il codice sotto va eseguito per verificare se le funzioni sono state scritte in maniera corretta"
   ]
  },
  {
   "cell_type": "code",
   "execution_count": null,
   "metadata": {},
   "outputs": [],
   "source": [
    "# controllo esercizio 7 *** ESEGUIRE, MA NON TOCCARE ***\n",
    "divis_23(31)\n",
    "divis_23(33)\n",
    "divis_23(66)\n",
    "divisibile_precedenti(10)   # deve stampare 2, 5\n",
    "divisibile_precedenti(28)   # deve stampare 2, 4, 7, 14\n",
    "divisibile_precedenti(84)   # deve stampare 2, 3, 7, 12, 14, 28, 42"
   ]
  },
  {
   "cell_type": "markdown",
   "metadata": {},
   "source": [
    "### Esercizio 8\n",
    "Scrivi una funzione che, dato un numero in ingresso N, determini se esso è un numero primo.\n",
    "Ricorda che per verificare se è primo basta verificare che non è divisibile per ciascun numero naturale tra 2 e N/2 (in realtà basterebbe $\\sqrt{N}$, ma vedremo come fare le radici...). La funzione deve restituire il valore `True` se il numero è\n",
    "primo, `False` se non lo è"
   ]
  },
  {
   "cell_type": "code",
   "execution_count": null,
   "metadata": {},
   "outputs": [],
   "source": [
    "# anche in questo caso, può essere comodo tenere una variabile booleana\n",
    "# fuori dal ciclo, che \"contenga\" l'informazione \"n è primo\"\n",
    "def primo(n):\n",
    "    pass"
   ]
  },
  {
   "cell_type": "code",
   "execution_count": null,
   "metadata": {},
   "outputs": [],
   "source": [
    "# controllo esercizio 8 *** ESEGUIRE, MA NON TOCCARE ***\n",
    "assert not primo(15487179), \"La tua funzione dice che 15487179 è un numero primo, ma in realtà non lo è\"\n",
    "assert primo(15487177), \"La tua funzione dice che 15487177 non è un numero primo, ma in realtà lo è\""
   ]
  },
  {
   "cell_type": "markdown",
   "metadata": {},
   "source": [
    "### Esercizio 9\n",
    "Scrivi una funzione che trovi tutti i numeri primi fino ad N. L'output della funzione deve essere una lista contenente i numeri primi.\n",
    "\n",
    "Utilizza una lista \"vuota\" (o una lista contenente il primo numero primo) come contenitore, ed usa il metodo `append` per aggiungere un numero alla lista quando è primo.\n",
    "Per determinare se un numero è primo o no, usa la funzione `primo` da te creata in precedenza.\n",
    "\n",
    "_(ultimo suggerimento: si risparmia tempo di calcolo saltando tutti i numeri pari. Hai un'idea di come fare? pensa alla sintassi della funzione `range`...)_"
   ]
  },
  {
   "cell_type": "code",
   "execution_count": null,
   "metadata": {},
   "outputs": [],
   "source": [
    "def trova_primi(N):\n",
    "    pass"
   ]
  },
  {
   "cell_type": "code",
   "execution_count": null,
   "metadata": {},
   "outputs": [],
   "source": [
    "# controllo esercizio 9 *** ESEGUIRE, MA NON TOCCARE ***\n",
    "assert trova_primi(25) == [2, 3, 5, 7, 11, 13, 17, 19, 23], (\n",
    "    \"La tua funzione non ha trovato tutti i numeri primi, o ne ha trovato qualcuno che non è primo\")"
   ]
  }
 ],
 "metadata": {
  "kernelspec": {
   "display_name": "Python 3",
   "language": "python",
   "name": "python3"
  },
  "language_info": {
   "codemirror_mode": {
    "name": "ipython",
    "version": 3
   },
   "file_extension": ".py",
   "mimetype": "text/x-python",
   "name": "python",
   "nbconvert_exporter": "python",
   "pygments_lexer": "ipython3",
   "version": "3.6.4"
  }
 },
 "nbformat": 4,
 "nbformat_minor": 2
}
