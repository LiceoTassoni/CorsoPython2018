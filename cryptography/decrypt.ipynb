{
 "cells": [
  {
   "cell_type": "markdown",
   "metadata": {},
   "source": [
    "# Decifratura\n",
    "\n",
    "Sapete che il testo cifrato è stato ottenuto semplicemente spostando tutte le lettere dell'alfabeto avanti o indietro di _n_ posizioni. Come si fa a trovare questo numero utilizzando l'analisi di frequenze?\n",
    "\n",
    "### Un algoritmo possibile\n",
    "\n",
    "1. Per prima cosa, dovete immagazzinare in una lista le lettere che compaiono con maggior frequenza nella lingua italiana (da [wikipedia](https://it.wikipedia.org/wiki/Analisi_delle_frequenze)). La lista può essere semplicemente del tipo\n",
    "```python\n",
    "[ 'e', 'a', 'i' ... ]\n",
    "```\n",
    "2. Inizializzate una lista vuota `lista_frequenze`\n",
    "3. Dato il testo da cifrare eseguire un ciclo per ogni lettera dell'alfabeto:\n",
    "    1. Conta il numero di volte che la lettera compare nel testo (metodo `count`)\n",
    "    2. aggiungi (con il metodo `append`) alla variabile `lista_frequenze` una lista così composta: il primo elemento è la lettera che state contando, il secondo è il numero di volte che compare nel testo\n",
    "4. Definisci una seconda funzione (`ordina`) che utilizzerai per ordinare la lista che hai creato secondo il numero di volte che compare un dato carattere. La funzione `ordina`, per motivi che saranno chiari più sotto, restituisce il _secondo_ elemento della lista che viene passata come argomento.\n",
    "5. Adesso puoi ordinare la `lista_frequenze` che hai ottenuto utilizzando il metodo `sort`, e un [argomento chiave](https://docs.python.org/3/tutorial/controlflow.html#keyword-arguments) che si chiama `key`, al quale puoi assegnare semplicemente il valore `ordina`.\n",
    "\n",
    "A questo punto, la tua funzione ha due liste: una contiene le lettere dell'alfabeto italiano ordinate per frequenza, la seconda contiene le lettere del testo che stai analizzando, anche queste ordinate per frequenza.\n",
    "\n",
    "In linea di principio, gli elementi delle due liste dovrebbero essere \"associati\" secondo l'ordine nel quale compaiono. Quindi puoi ricavare di quanto è stato _spostato_ l'alfabeto semplicemente guardando di quanto sono spostate le due liste.\n",
    "\n",
    "In pratica, non è detto che la corrispondenza sia precisa per tutte le lettere. Può essere utile quindi creare un grafico che visualizzi, per ogni _spostamento_ dell'alfabeto, quante coppie di lettere delle due liste in ingresso sono spostate di esattamente quella quantità.\n",
    "Per fare questo, puoi eseguire un secondo algoritmo di questo tipo:\n",
    "\n",
    "1. inizializza un `array numpy` contenente 26 zeri (usa la funzione `np.zeros`)\n",
    "2. per ogni coppia di valori nelle due liste, conta di quanto sono spostati relativamente uno all'altro. Il risultato sarà un intero _k_\n",
    "3. incrementa di 1 il valore del `k-1`-esimo elemento dell'array `spostamenti`\n",
    "\n",
    "alla fine di questa operazione, l'array `spostamenti` contiene il numero di volte che compare ciascuno dei 26 spostamenti possibili. Il valore più alto di questo array dovrebbe\n",
    "corrispondere allo spostamento _n_ cercato"
   ]
  },
  {
   "cell_type": "code",
   "execution_count": null,
   "metadata": {},
   "outputs": [],
   "source": [
    "frequenze = [ \"e\", \"a\", \"i\", ]    # <- completare"
   ]
  },
  {
   "cell_type": "code",
   "execution_count": null,
   "metadata": {},
   "outputs": [],
   "source": [
    "def ordina(lista):\n",
    "    \"\"\"\"\"\""
   ]
  },
  {
   "cell_type": "code",
   "execution_count": null,
   "metadata": {},
   "outputs": [],
   "source": [
    "def decifra(testo):\n",
    "    \"\"\"\"\"\"\n",
    "    lista_frequenze, spostamenti = [], np.zeros(26)\n",
    "    return n    # <- bisogna restituire di quante unità sono spostate le lettere dell'alfabeto"
   ]
  }
 ],
 "metadata": {
  "kernelspec": {
   "display_name": "Python 3",
   "language": "python",
   "name": "python3"
  },
  "language_info": {
   "codemirror_mode": {
    "name": "ipython",
    "version": 3
   },
   "file_extension": ".py",
   "mimetype": "text/x-python",
   "name": "python",
   "nbconvert_exporter": "python",
   "pygments_lexer": "ipython3",
   "version": "3.6.4"
  }
 },
 "nbformat": 4,
 "nbformat_minor": 2
}
