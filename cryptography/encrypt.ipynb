{
 "cells": [
  {
   "cell_type": "markdown",
   "metadata": {},
   "source": [
    "# Cifratura\n",
    "\n",
    "Si vuole cifrare un testo utilizzando un semplice cifrario (\"di Cesare\"), dove ogni lettera è sostituita da un'altra lettera che si trova _n_ posizioni più avanti (o più indietro se _n_ è negativo) nell'alfabeto. Il testo da cifrare è "
   ]
  },
  {
   "cell_type": "code",
   "execution_count": null,
   "metadata": {},
   "outputs": [],
   "source": [
    "testo = \"\"\"L'idea, o piuttosto, il consiglio di scrivere mi è venuto dal mio reverendo amico don Eligio Pellegrinotto, che al presente ha in custodia i libri della Boccamazza, e al quale io affido il manoscritto appena sarà terminato, se mai sarà.\n",
    "Lo scrivo qua, nella chiesetta sconsacrata, al lume che mi viene dalla lanterna lassù, della cupola; qua, nell'abside riservata al bibliotecario e chiusa da una bassa cancellata di legno a pilastrini, mentre don Eligio sbuffa sotto l'incarico che si è eroicamente assunto di mettere un po' d'ordine in questa vera babilonia di libri. Temo che non ne verrà mai a capo. Nessuno prima di lui s'era curato di sapere, almeno all'ingrosso, dando di sfuggita un'occhiata ai dorsi, che razza di libri quel Monsignore avesse donato al Comune: si riteneva che tutti o quasi dovessero trattare di materie religiose. Ora il Pellegrinotto ha scoperto, per maggior sua consolazione, una varietà grandissima di materie nella biblioteca di Monsignore; e siccome i libri furon presi di qua e di là nel magazzino e accozzati così come venivano sotto mano, la confusione è indescrivibile. Si sono strette per la vicinanza fra questi libri amicizie oltre ogni dire speciose: don Eligio Pellegrinotto mi ha detto, ad esempio, che ha stentato non poco a staccare da un trattato molto licenzioso Dell'arte di amar le donne, libri tre di Anton Muzio Porro, dell'anno 1571, una Vita e morte di Faustino Materucci, Benedettino di Polirone, che taluni chiamano beato, biografia edita a Mantova nel 1625. Per l'umidità, le legature de' due volumi si erano fraternamente appiccicate. Notare che nel libro secondo di quel trattato licenzioso si discorre a lungo della vita e delle avventure monacali.\n",
    "Molti libri curiosi e piacevolissimi don Eligio Pellegrinotto, arrampicato tutto il giorno su una scala da lampionajo, ha pescato negli scaffali della biblioteca. Ogni qual volta ne trova uno, lo lancia dall'alto, con garbo, sul tavolone che sta in mezzo; la chiesetta ne rintrona; un nugolo di polvere si leva, da cui due o tre ragni scappano via spaventati: io accorro dall'abside, scavalcando la cancellata; dò prima col libro stesso la caccia ai ragni su pe 'l tavolone polveroso; poi apro il libro e mi metto a leggiucchiarlo.\n",
    "Così, a poco a poco, ho fatto il gusto a siffatte letture. Ora don Eligio mi dice che il mio libro dovrebbe esser condotto sul modello di questi ch'egli va scovando nella biblioteca, aver cioè il loro particolar sapore. Io scrollo le spalle e gli rispondo che non è fatica per me. E poi altro mi trattiene.\n",
    "Tutto sudato e impolverato, don Eligio scende dalla scala e viene a prendere una boccata d'aria nell'orticello che ha trovato modo di far sorgere qui dietro l'abside, riparato giro giro da stecchi e spuntoni.\n",
    "\"\"\""
   ]
  },
  {
   "cell_type": "markdown",
   "metadata": {},
   "source": [
    "### Un 'algoritmo' possibile\n",
    "\n",
    "1. Prepara prima il testo da cifrare:\n",
    "    * rimuovi la spaziatura (con il metodo `replace`)\n",
    "    * rimuovi la punteggiatura (sempre con il metodo `replace`)\n",
    "    * trasforma tutto il testo in minuscole\n",
    "2. Inizializza una stringa vuota che contenga il testo cifrato\n",
    "3. Per ogni carattere del testo da cifrare, aggiungi alla stringa definita al punto precedente un carattere che corrisponde al carattere iniziale _spostato_ di n posizioni nell'alfabeto. Bisogna fare attenzione alla 'circolarità' di questo procedimento: conviene, per risolvere il problema, utilizzare la divisione con resto."
   ]
  },
  {
   "cell_type": "code",
   "execution_count": null,
   "metadata": {},
   "outputs": [],
   "source": [
    "def cifra(testo, n):\n",
    "    testo_cifrato = \"\"      # <- ovviamente qua è da cambiare\n",
    "    return testo_cifrato"
   ]
  },
  {
   "cell_type": "code",
   "execution_count": null,
   "metadata": {},
   "outputs": [],
   "source": [
    "# proviamo la funzione\n",
    "print(cifra(\"tassoni\", 3))      # <- deve restituire \"wdvvrql\""
   ]
  },
  {
   "cell_type": "code",
   "execution_count": null,
   "metadata": {},
   "outputs": [],
   "source": []
  }
 ],
 "metadata": {
  "kernelspec": {
   "display_name": "Python 3",
   "language": "python",
   "name": "python3"
  },
  "language_info": {
   "codemirror_mode": {
    "name": "ipython",
    "version": 3
   },
   "file_extension": ".py",
   "mimetype": "text/x-python",
   "name": "python",
   "nbconvert_exporter": "python",
   "pygments_lexer": "ipython3",
   "version": "3.6.4"
  }
 },
 "nbformat": 4,
 "nbformat_minor": 2
}
